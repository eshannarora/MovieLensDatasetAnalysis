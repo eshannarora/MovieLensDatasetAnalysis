{
 "cells": [
  {
   "cell_type": "markdown",
   "id": "03bfe56f",
   "metadata": {},
   "source": [
    "### Analysis of MovieLens Data - Part 1\n",
    "\n",
    "We are provided with the MovieLens data collected by the GroupLens Research Project at the University of Minnesota.\n",
    "In particular, the data was collected through the MovieLens web site (movielens.umn.edu), which records a number of users' ratings (1-5) towards their watched movies. Besides, simple demographic info (e.g., age and gender) for the users and descriptive info (e.g., title and genre) for the movies are provided. \n",
    "\n",
    "Originally, there are several separate files to record the user-movie rating info, user demographic info and movie descriptive info, we have conducted preliminary processing to map and merge the data into one csv file named 'movielens_data.csv'. The header of the csv file is shown below. \n",
    "\n",
    "| userId | age | gender | occupation| movieId | rating | genre | timestamp |\n",
    "    | ---- | ---- | ---- | ---- | ---- | ---- | ---- | ---- | \n",
    "    \n",
    "#### Description of Fields\n",
    "\n",
    "* __userId__ - the user's id\n",
    "* __age__ - the user's age\n",
    "* __gender__ - the user's gender\n",
    "* __occupation__ - the user's occupation\n",
    "* __movieId__ - the movie's id\n",
    "* __rating__ - the user's rating towards the movie\n",
    "* __genre__ - the genre of the movie\n",
    "* __timestamp__ - the timestamp indicating when the user rated the movie\n",
    "\n",
    "Note that, a same user (i.e., a same userId) corresponds to a same age/gender/occupation; a same movie (i.e., a same movieId) corresponds to a same genre; a same user (i.e., a same userId) may rate multiple movies and a same movie (i.e., a same movieId) may receive ratings from multiple users."
   ]
  },
  {
   "cell_type": "markdown",
   "id": "8b12ed66",
   "metadata": {},
   "source": [
    "### Importing the packages"
   ]
  },
  {
   "cell_type": "code",
   "execution_count": 1,
   "id": "3461c177",
   "metadata": {},
   "outputs": [],
   "source": [
    "import pandas as pd\n",
    "import numpy as np\n",
    "import matplotlib.pyplot as plt\n",
    "%matplotlib inline\n",
    "import seaborn as sns"
   ]
  },
  {
   "cell_type": "markdown",
   "id": "d091c07b",
   "metadata": {},
   "source": [
    "### Reading the csv file"
   ]
  },
  {
   "cell_type": "code",
   "execution_count": 2,
   "id": "23cf46ef",
   "metadata": {},
   "outputs": [],
   "source": [
    "df = pd.read_csv('files/movielens_data.csv')"
   ]
  },
  {
   "cell_type": "markdown",
   "id": "55934c71",
   "metadata": {},
   "source": [
    " ### Remove missing data\n",
    " \n",
    "Removed the following records in the csv file: \n",
    " \n",
    " * age/gender/rating is missing\n",
    " * occupation is set to 'none'"
   ]
  },
  {
   "cell_type": "code",
   "execution_count": 3,
   "id": "b2f0a9f6",
   "metadata": {},
   "outputs": [
    {
     "name": "stdout",
     "output_type": "stream",
     "text": [
      "Length of dataset before removing missing data: 100000\n"
     ]
    }
   ],
   "source": [
    "# length of the data before removing the missing data\n",
    "\n",
    "print(f\"Length of dataset before removing missing data: {len(df)}\")"
   ]
  },
  {
   "cell_type": "code",
   "execution_count": 4,
   "id": "29825483",
   "metadata": {
    "scrolled": true
   },
   "outputs": [],
   "source": [
    "# removing records which had 'none' as occupation\n",
    "df1 = df.drop(df.index[(df['occupation'] == 'none')])\n",
    "\n",
    "# removing null values\n",
    "data = df1.dropna()"
   ]
  },
  {
   "cell_type": "code",
   "execution_count": 5,
   "id": "6ddae379",
   "metadata": {},
   "outputs": [
    {
     "name": "stdout",
     "output_type": "stream",
     "text": [
      "Length of dataset after removing missing data: 99022\n"
     ]
    }
   ],
   "source": [
    "print(f\"Length of dataset after removing missing data: {len(data)}\")"
   ]
  },
  {
   "cell_type": "markdown",
   "id": "6b2142f8",
   "metadata": {},
   "source": [
    "### 'data' is a dataframe without any records having null values or 'none'  in it.\n",
    "### Length of dataset after removing missing data is *99022*."
   ]
  },
  {
   "cell_type": "markdown",
   "id": "5399fc9a",
   "metadata": {},
   "source": [
    "\n",
    "----------------------------------"
   ]
  },
  {
   "cell_type": "markdown",
   "id": "063e08bf",
   "metadata": {},
   "source": [
    "### Descriptive Statistics\n",
    "\n",
    "With the cleaned data, we will summarize the dataset:\n",
    "\n",
    "* a. total number of unique users, unique occupations, unique movies, and unique genres\n",
    "* b. descriptive statistics, e.g., the total number, mean, std, min and max regarding all rating records\n",
    "* c. descriptive statistics, e.g., mean, std, max, and min of the number of movies rated by each user \n",
    "* d. descriptive statistics, e.g., mean, std, max, min of the number of ratings that received by each movie \n"
   ]
  },
  {
   "cell_type": "markdown",
   "id": "eeb94b35",
   "metadata": {},
   "source": [
    " ### a. total number of unique users, unique occupations, unique movies, and unique genres"
   ]
  },
  {
   "cell_type": "code",
   "execution_count": 6,
   "id": "d7662c9a",
   "metadata": {},
   "outputs": [
    {
     "name": "stdout",
     "output_type": "stream",
     "text": [
      "Total number of unique users: 934\n",
      "Total number of unique occupations: 20\n",
      "Total number of unique movies: 1682\n",
      "Total number of unique genres: 19\n"
     ]
    }
   ],
   "source": [
    "unique_users = data['userId'].unique()\n",
    "unique_occupation = data['occupation'].unique()\n",
    "unique_movies = data['movieId'].unique()\n",
    "unique_genre = data['genre'].unique()\n",
    "\n",
    "print(\"Total number of unique users:\", len(unique_users))\n",
    "print(\"Total number of unique occupations:\", len(unique_occupation))\n",
    "print(\"Total number of unique movies:\", len(unique_movies))\n",
    "print(\"Total number of unique genres:\", len(unique_genre))"
   ]
  },
  {
   "cell_type": "markdown",
   "id": "905a3750",
   "metadata": {},
   "source": [
    "### b. descriptive statistics, e.g., the total number, mean, std, min and max regarding all rating records"
   ]
  },
  {
   "cell_type": "code",
   "execution_count": 7,
   "id": "77479738",
   "metadata": {},
   "outputs": [
    {
     "data": {
      "text/plain": [
       "count    99022.000000\n",
       "mean         3.527792\n",
       "std          1.125743\n",
       "min          1.000000\n",
       "25%          3.000000\n",
       "50%          4.000000\n",
       "75%          4.000000\n",
       "max          5.000000\n",
       "Name: rating, dtype: float64"
      ]
     },
     "execution_count": 7,
     "metadata": {},
     "output_type": "execute_result"
    }
   ],
   "source": [
    "data['rating'].describe()"
   ]
  },
  {
   "cell_type": "markdown",
   "id": "adbca7a3",
   "metadata": {},
   "source": [
    "### c. descriptive statistics, e.g., mean, std, max, and min of the number of movies rated by each user "
   ]
  },
  {
   "cell_type": "code",
   "execution_count": 8,
   "id": "55c114bb",
   "metadata": {},
   "outputs": [
    {
     "data": {
      "text/html": [
       "<div>\n",
       "<style scoped>\n",
       "    .dataframe tbody tr th:only-of-type {\n",
       "        vertical-align: middle;\n",
       "    }\n",
       "\n",
       "    .dataframe tbody tr th {\n",
       "        vertical-align: top;\n",
       "    }\n",
       "\n",
       "    .dataframe thead tr th {\n",
       "        text-align: left;\n",
       "    }\n",
       "\n",
       "    .dataframe thead tr:last-of-type th {\n",
       "        text-align: right;\n",
       "    }\n",
       "</style>\n",
       "<table border=\"1\" class=\"dataframe\">\n",
       "  <thead>\n",
       "    <tr>\n",
       "      <th></th>\n",
       "      <th colspan=\"8\" halign=\"left\">rating</th>\n",
       "    </tr>\n",
       "    <tr>\n",
       "      <th></th>\n",
       "      <th>count</th>\n",
       "      <th>mean</th>\n",
       "      <th>std</th>\n",
       "      <th>min</th>\n",
       "      <th>25%</th>\n",
       "      <th>50%</th>\n",
       "      <th>75%</th>\n",
       "      <th>max</th>\n",
       "    </tr>\n",
       "    <tr>\n",
       "      <th>userId</th>\n",
       "      <th></th>\n",
       "      <th></th>\n",
       "      <th></th>\n",
       "      <th></th>\n",
       "      <th></th>\n",
       "      <th></th>\n",
       "      <th></th>\n",
       "      <th></th>\n",
       "    </tr>\n",
       "  </thead>\n",
       "  <tbody>\n",
       "    <tr>\n",
       "      <th>1</th>\n",
       "      <td>272.0</td>\n",
       "      <td>3.610294</td>\n",
       "      <td>1.263585</td>\n",
       "      <td>1.0</td>\n",
       "      <td>3.0</td>\n",
       "      <td>4.0</td>\n",
       "      <td>5.0</td>\n",
       "      <td>5.0</td>\n",
       "    </tr>\n",
       "    <tr>\n",
       "      <th>2</th>\n",
       "      <td>62.0</td>\n",
       "      <td>3.709677</td>\n",
       "      <td>1.030472</td>\n",
       "      <td>1.0</td>\n",
       "      <td>3.0</td>\n",
       "      <td>4.0</td>\n",
       "      <td>4.0</td>\n",
       "      <td>5.0</td>\n",
       "    </tr>\n",
       "    <tr>\n",
       "      <th>3</th>\n",
       "      <td>54.0</td>\n",
       "      <td>2.796296</td>\n",
       "      <td>1.219026</td>\n",
       "      <td>1.0</td>\n",
       "      <td>2.0</td>\n",
       "      <td>3.0</td>\n",
       "      <td>4.0</td>\n",
       "      <td>5.0</td>\n",
       "    </tr>\n",
       "    <tr>\n",
       "      <th>4</th>\n",
       "      <td>24.0</td>\n",
       "      <td>4.333333</td>\n",
       "      <td>0.916831</td>\n",
       "      <td>2.0</td>\n",
       "      <td>4.0</td>\n",
       "      <td>5.0</td>\n",
       "      <td>5.0</td>\n",
       "      <td>5.0</td>\n",
       "    </tr>\n",
       "    <tr>\n",
       "      <th>5</th>\n",
       "      <td>170.0</td>\n",
       "      <td>2.894118</td>\n",
       "      <td>1.363285</td>\n",
       "      <td>1.0</td>\n",
       "      <td>2.0</td>\n",
       "      <td>3.0</td>\n",
       "      <td>4.0</td>\n",
       "      <td>5.0</td>\n",
       "    </tr>\n",
       "    <tr>\n",
       "      <th>...</th>\n",
       "      <td>...</td>\n",
       "      <td>...</td>\n",
       "      <td>...</td>\n",
       "      <td>...</td>\n",
       "      <td>...</td>\n",
       "      <td>...</td>\n",
       "      <td>...</td>\n",
       "      <td>...</td>\n",
       "    </tr>\n",
       "    <tr>\n",
       "      <th>939</th>\n",
       "      <td>49.0</td>\n",
       "      <td>4.265306</td>\n",
       "      <td>0.974156</td>\n",
       "      <td>2.0</td>\n",
       "      <td>4.0</td>\n",
       "      <td>5.0</td>\n",
       "      <td>5.0</td>\n",
       "      <td>5.0</td>\n",
       "    </tr>\n",
       "    <tr>\n",
       "      <th>940</th>\n",
       "      <td>107.0</td>\n",
       "      <td>3.457944</td>\n",
       "      <td>1.012007</td>\n",
       "      <td>1.0</td>\n",
       "      <td>3.0</td>\n",
       "      <td>4.0</td>\n",
       "      <td>4.0</td>\n",
       "      <td>5.0</td>\n",
       "    </tr>\n",
       "    <tr>\n",
       "      <th>941</th>\n",
       "      <td>22.0</td>\n",
       "      <td>4.045455</td>\n",
       "      <td>0.898532</td>\n",
       "      <td>2.0</td>\n",
       "      <td>4.0</td>\n",
       "      <td>4.0</td>\n",
       "      <td>5.0</td>\n",
       "      <td>5.0</td>\n",
       "    </tr>\n",
       "    <tr>\n",
       "      <th>942</th>\n",
       "      <td>79.0</td>\n",
       "      <td>4.265823</td>\n",
       "      <td>0.763072</td>\n",
       "      <td>2.0</td>\n",
       "      <td>4.0</td>\n",
       "      <td>4.0</td>\n",
       "      <td>5.0</td>\n",
       "      <td>5.0</td>\n",
       "    </tr>\n",
       "    <tr>\n",
       "      <th>943</th>\n",
       "      <td>168.0</td>\n",
       "      <td>3.410714</td>\n",
       "      <td>1.258886</td>\n",
       "      <td>1.0</td>\n",
       "      <td>2.0</td>\n",
       "      <td>4.0</td>\n",
       "      <td>4.0</td>\n",
       "      <td>5.0</td>\n",
       "    </tr>\n",
       "  </tbody>\n",
       "</table>\n",
       "<p>934 rows × 8 columns</p>\n",
       "</div>"
      ],
      "text/plain": [
       "       rating                                             \n",
       "        count      mean       std  min  25%  50%  75%  max\n",
       "userId                                                    \n",
       "1       272.0  3.610294  1.263585  1.0  3.0  4.0  5.0  5.0\n",
       "2        62.0  3.709677  1.030472  1.0  3.0  4.0  4.0  5.0\n",
       "3        54.0  2.796296  1.219026  1.0  2.0  3.0  4.0  5.0\n",
       "4        24.0  4.333333  0.916831  2.0  4.0  5.0  5.0  5.0\n",
       "5       170.0  2.894118  1.363285  1.0  2.0  3.0  4.0  5.0\n",
       "...       ...       ...       ...  ...  ...  ...  ...  ...\n",
       "939      49.0  4.265306  0.974156  2.0  4.0  5.0  5.0  5.0\n",
       "940     107.0  3.457944  1.012007  1.0  3.0  4.0  4.0  5.0\n",
       "941      22.0  4.045455  0.898532  2.0  4.0  4.0  5.0  5.0\n",
       "942      79.0  4.265823  0.763072  2.0  4.0  4.0  5.0  5.0\n",
       "943     168.0  3.410714  1.258886  1.0  2.0  4.0  4.0  5.0\n",
       "\n",
       "[934 rows x 8 columns]"
      ]
     },
     "execution_count": 8,
     "metadata": {},
     "output_type": "execute_result"
    }
   ],
   "source": [
    "data[['userId', 'rating']].groupby(by='userId').describe()"
   ]
  },
  {
   "cell_type": "markdown",
   "id": "1c7d0ed4",
   "metadata": {},
   "source": [
    "### The rating/count column shows the number of movies rated by each user."
   ]
  },
  {
   "cell_type": "code",
   "execution_count": 9,
   "id": "70d22fb5",
   "metadata": {},
   "outputs": [
    {
     "data": {
      "text/plain": [
       "count    934.000000\n",
       "mean     106.019272\n",
       "std      100.793963\n",
       "min       19.000000\n",
       "25%       33.000000\n",
       "50%       65.000000\n",
       "75%      148.000000\n",
       "max      736.000000\n",
       "Name: userId, dtype: float64"
      ]
     },
     "execution_count": 9,
     "metadata": {},
     "output_type": "execute_result"
    }
   ],
   "source": [
    "user_ratings = data.groupby(['userId'])['userId'].count()\n",
    "user_ratings.describe()"
   ]
  },
  {
   "cell_type": "markdown",
   "id": "39c7de02",
   "metadata": {},
   "source": [
    "### Other descriptive stats are -\n",
    "* #### Mean = 106.019272\n",
    "* #### Std. = 100.793963\n",
    "* #### MAX  = 736.000000\n",
    "* #### MIN  = 19.000000"
   ]
  },
  {
   "cell_type": "markdown",
   "id": "ffd11cef",
   "metadata": {},
   "source": [
    "### d. descriptive statistics, e.g., mean, std, max, min of the number of ratings that received by each movie "
   ]
  },
  {
   "cell_type": "code",
   "execution_count": 10,
   "id": "0bbc2817",
   "metadata": {},
   "outputs": [
    {
     "data": {
      "text/html": [
       "<div>\n",
       "<style scoped>\n",
       "    .dataframe tbody tr th:only-of-type {\n",
       "        vertical-align: middle;\n",
       "    }\n",
       "\n",
       "    .dataframe tbody tr th {\n",
       "        vertical-align: top;\n",
       "    }\n",
       "\n",
       "    .dataframe thead tr th {\n",
       "        text-align: left;\n",
       "    }\n",
       "\n",
       "    .dataframe thead tr:last-of-type th {\n",
       "        text-align: right;\n",
       "    }\n",
       "</style>\n",
       "<table border=\"1\" class=\"dataframe\">\n",
       "  <thead>\n",
       "    <tr>\n",
       "      <th></th>\n",
       "      <th colspan=\"8\" halign=\"left\">rating</th>\n",
       "    </tr>\n",
       "    <tr>\n",
       "      <th></th>\n",
       "      <th>count</th>\n",
       "      <th>mean</th>\n",
       "      <th>std</th>\n",
       "      <th>min</th>\n",
       "      <th>25%</th>\n",
       "      <th>50%</th>\n",
       "      <th>75%</th>\n",
       "      <th>max</th>\n",
       "    </tr>\n",
       "    <tr>\n",
       "      <th>movieId</th>\n",
       "      <th></th>\n",
       "      <th></th>\n",
       "      <th></th>\n",
       "      <th></th>\n",
       "      <th></th>\n",
       "      <th></th>\n",
       "      <th></th>\n",
       "      <th></th>\n",
       "    </tr>\n",
       "  </thead>\n",
       "  <tbody>\n",
       "    <tr>\n",
       "      <th>1</th>\n",
       "      <td>445.0</td>\n",
       "      <td>3.876404</td>\n",
       "      <td>0.927802</td>\n",
       "      <td>1.0</td>\n",
       "      <td>3.0</td>\n",
       "      <td>4.0</td>\n",
       "      <td>5.0</td>\n",
       "      <td>5.0</td>\n",
       "    </tr>\n",
       "    <tr>\n",
       "      <th>2</th>\n",
       "      <td>129.0</td>\n",
       "      <td>3.186047</td>\n",
       "      <td>0.958249</td>\n",
       "      <td>1.0</td>\n",
       "      <td>3.0</td>\n",
       "      <td>3.0</td>\n",
       "      <td>4.0</td>\n",
       "      <td>5.0</td>\n",
       "    </tr>\n",
       "    <tr>\n",
       "      <th>3</th>\n",
       "      <td>88.0</td>\n",
       "      <td>3.034091</td>\n",
       "      <td>1.188536</td>\n",
       "      <td>1.0</td>\n",
       "      <td>2.0</td>\n",
       "      <td>3.0</td>\n",
       "      <td>4.0</td>\n",
       "      <td>5.0</td>\n",
       "    </tr>\n",
       "    <tr>\n",
       "      <th>4</th>\n",
       "      <td>206.0</td>\n",
       "      <td>3.543689</td>\n",
       "      <td>0.955362</td>\n",
       "      <td>1.0</td>\n",
       "      <td>3.0</td>\n",
       "      <td>4.0</td>\n",
       "      <td>4.0</td>\n",
       "      <td>5.0</td>\n",
       "    </tr>\n",
       "    <tr>\n",
       "      <th>5</th>\n",
       "      <td>84.0</td>\n",
       "      <td>3.273810</td>\n",
       "      <td>0.935913</td>\n",
       "      <td>1.0</td>\n",
       "      <td>3.0</td>\n",
       "      <td>3.0</td>\n",
       "      <td>4.0</td>\n",
       "      <td>5.0</td>\n",
       "    </tr>\n",
       "    <tr>\n",
       "      <th>...</th>\n",
       "      <td>...</td>\n",
       "      <td>...</td>\n",
       "      <td>...</td>\n",
       "      <td>...</td>\n",
       "      <td>...</td>\n",
       "      <td>...</td>\n",
       "      <td>...</td>\n",
       "      <td>...</td>\n",
       "    </tr>\n",
       "    <tr>\n",
       "      <th>1678</th>\n",
       "      <td>1.0</td>\n",
       "      <td>1.000000</td>\n",
       "      <td>NaN</td>\n",
       "      <td>1.0</td>\n",
       "      <td>1.0</td>\n",
       "      <td>1.0</td>\n",
       "      <td>1.0</td>\n",
       "      <td>1.0</td>\n",
       "    </tr>\n",
       "    <tr>\n",
       "      <th>1679</th>\n",
       "      <td>1.0</td>\n",
       "      <td>3.000000</td>\n",
       "      <td>NaN</td>\n",
       "      <td>3.0</td>\n",
       "      <td>3.0</td>\n",
       "      <td>3.0</td>\n",
       "      <td>3.0</td>\n",
       "      <td>3.0</td>\n",
       "    </tr>\n",
       "    <tr>\n",
       "      <th>1680</th>\n",
       "      <td>1.0</td>\n",
       "      <td>2.000000</td>\n",
       "      <td>NaN</td>\n",
       "      <td>2.0</td>\n",
       "      <td>2.0</td>\n",
       "      <td>2.0</td>\n",
       "      <td>2.0</td>\n",
       "      <td>2.0</td>\n",
       "    </tr>\n",
       "    <tr>\n",
       "      <th>1681</th>\n",
       "      <td>1.0</td>\n",
       "      <td>3.000000</td>\n",
       "      <td>NaN</td>\n",
       "      <td>3.0</td>\n",
       "      <td>3.0</td>\n",
       "      <td>3.0</td>\n",
       "      <td>3.0</td>\n",
       "      <td>3.0</td>\n",
       "    </tr>\n",
       "    <tr>\n",
       "      <th>1682</th>\n",
       "      <td>1.0</td>\n",
       "      <td>3.000000</td>\n",
       "      <td>NaN</td>\n",
       "      <td>3.0</td>\n",
       "      <td>3.0</td>\n",
       "      <td>3.0</td>\n",
       "      <td>3.0</td>\n",
       "      <td>3.0</td>\n",
       "    </tr>\n",
       "  </tbody>\n",
       "</table>\n",
       "<p>1682 rows × 8 columns</p>\n",
       "</div>"
      ],
      "text/plain": [
       "        rating                                             \n",
       "         count      mean       std  min  25%  50%  75%  max\n",
       "movieId                                                    \n",
       "1        445.0  3.876404  0.927802  1.0  3.0  4.0  5.0  5.0\n",
       "2        129.0  3.186047  0.958249  1.0  3.0  3.0  4.0  5.0\n",
       "3         88.0  3.034091  1.188536  1.0  2.0  3.0  4.0  5.0\n",
       "4        206.0  3.543689  0.955362  1.0  3.0  4.0  4.0  5.0\n",
       "5         84.0  3.273810  0.935913  1.0  3.0  3.0  4.0  5.0\n",
       "...        ...       ...       ...  ...  ...  ...  ...  ...\n",
       "1678       1.0  1.000000       NaN  1.0  1.0  1.0  1.0  1.0\n",
       "1679       1.0  3.000000       NaN  3.0  3.0  3.0  3.0  3.0\n",
       "1680       1.0  2.000000       NaN  2.0  2.0  2.0  2.0  2.0\n",
       "1681       1.0  3.000000       NaN  3.0  3.0  3.0  3.0  3.0\n",
       "1682       1.0  3.000000       NaN  3.0  3.0  3.0  3.0  3.0\n",
       "\n",
       "[1682 rows x 8 columns]"
      ]
     },
     "execution_count": 10,
     "metadata": {},
     "output_type": "execute_result"
    }
   ],
   "source": [
    "data[['movieId', 'rating']].groupby(by='movieId').describe()"
   ]
  },
  {
   "cell_type": "markdown",
   "id": "78f9b018",
   "metadata": {},
   "source": [
    "### The rating/count column shows the number of ratings received by each movie."
   ]
  },
  {
   "cell_type": "code",
   "execution_count": 11,
   "id": "937d91d4",
   "metadata": {},
   "outputs": [
    {
     "data": {
      "text/plain": [
       "count    1682.000000\n",
       "mean       58.871581\n",
       "std        79.629796\n",
       "min         1.000000\n",
       "25%         6.000000\n",
       "50%        26.000000\n",
       "75%        79.000000\n",
       "max       578.000000\n",
       "Name: movieId, dtype: float64"
      ]
     },
     "execution_count": 11,
     "metadata": {},
     "output_type": "execute_result"
    }
   ],
   "source": [
    "movies_ratings = data.groupby(['movieId'])['movieId'].count()\n",
    "movies_ratings.describe()"
   ]
  },
  {
   "cell_type": "markdown",
   "id": "3ee60adb",
   "metadata": {},
   "source": [
    "### Other descriptive stats are -\n",
    "* #### Mean = 58.871581\n",
    "* #### Std. = 79.629796\n",
    "* #### MAX  = 578.000000\n",
    "* #### MIN  = 1.000000\n",
    "\n",
    " ----------------------------------\n"
   ]
  },
  {
   "cell_type": "markdown",
   "id": "7b070d5d",
   "metadata": {},
   "source": [
    "### Plotting and Analysis\n",
    "\n",
    "We will try to explore the correlation between gender/occupation/genre and ratings; for instance, do female/male users tend to provide higher ratings than male/female users? "
   ]
  },
  {
   "cell_type": "markdown",
   "id": "7eb8762e",
   "metadata": {},
   "source": [
    "### Gender vs Ratings"
   ]
  },
  {
   "cell_type": "code",
   "execution_count": 12,
   "id": "6c42c9c2",
   "metadata": {},
   "outputs": [
    {
     "data": {
      "text/plain": [
       "<AxesSubplot:title={'center':'Boxplot to learn about correlation between Gender and Ratings'}, xlabel='gender', ylabel='rating'>"
      ]
     },
     "execution_count": 12,
     "metadata": {},
     "output_type": "execute_result"
    },
    {
     "data": {
      "image/png": "[encoded data removed]",
      "text/plain": [
       "<Figure size 864x432 with 1 Axes>"
      ]
     },
     "metadata": {},
     "output_type": "display_data"
    }
   ],
   "source": [
    "sns.set_style('whitegrid')\n",
    "plt.figure(figsize=(12,6))\n",
    "male_female_colors = ['#4554E3',  # Male\n",
    "                      '#DC5EBC'  # Female\n",
    "                      ]\n",
    "plt.title(\"Boxplot to learn about correlation between Gender and Ratings\", size=25)\n",
    "plt.xlabel('gender', size=15)\n",
    "plt.ylabel('rating', size=15)\n",
    "sns.boxplot(x='gender', y='rating', data=data, palette=male_female_colors)"
   ]
  },
  {
   "cell_type": "markdown",
   "id": "98528a44",
   "metadata": {},
   "source": [
    "#### The range, minimum and maximum values of both the males and the females appear to be same, hence, suggesting that there is no correlation between gender and ratings."
   ]
  },
  {
   "cell_type": "markdown",
   "id": "bdf1d813",
   "metadata": {},
   "source": [
    "### Occupations vs Ratings"
   ]
  },
  {
   "cell_type": "code",
   "execution_count": 13,
   "id": "3edcea89",
   "metadata": {},
   "outputs": [
    {
     "data": {
      "text/plain": [
       "<AxesSubplot:title={'center':'Boxplot to learn about correlation between Occupations and Ratings'}, xlabel='occupation', ylabel='rating'>"
      ]
     },
     "execution_count": 13,
     "metadata": {},
     "output_type": "execute_result"
    },
    {
     "data": {
      "image/png": "[encoded data removed]",
      "text/plain": [
       "<Figure size 1296x432 with 1 Axes>"
      ]
     },
     "metadata": {},
     "output_type": "display_data"
    }
   ],
   "source": [
    "sns.set_style('whitegrid')\n",
    "plt.figure(figsize=(18,6))\n",
    "plt.title(\"Boxplot to learn about correlation between Occupations and Ratings\", size=25)\n",
    "plt.xlabel('occupation', size=15)\n",
    "plt.ylabel('rating', size=15)\n",
    "sns.boxplot(x='occupation', y='rating', data=data)"
   ]
  },
  {
   "cell_type": "markdown",
   "id": "a435c2a1",
   "metadata": {},
   "source": [
    "#### The minimum and maximum values of ratings by people who are executive, artist, lawyer and in healthcare tends to be different than the people having majority of other occupations. Going off the majority, it suggests that there is no correlation between occupation and ratings."
   ]
  },
  {
   "cell_type": "markdown",
   "id": "c9e1b825",
   "metadata": {},
   "source": [
    "### Genre vs Ratings"
   ]
  },
  {
   "cell_type": "code",
   "execution_count": 14,
   "id": "b2da66c9",
   "metadata": {},
   "outputs": [
    {
     "data": {
      "text/plain": [
       "<AxesSubplot:title={'center':'Boxplot to learn about correlation between Genre and Ratings'}, xlabel='genre', ylabel='rating'>"
      ]
     },
     "execution_count": 14,
     "metadata": {},
     "output_type": "execute_result"
    },
    {
     "data": {
      "image/png": "[encoded data removed]",
      "text/plain": [
       "<Figure size 1080x432 with 1 Axes>"
      ]
     },
     "metadata": {},
     "output_type": "display_data"
    }
   ],
   "source": [
    "sns.set_style('whitegrid')\n",
    "plt.figure(figsize=(15,6))\n",
    "plt.title(\"Boxplot to learn about correlation between Genre and Ratings\", size=25)\n",
    "plt.xlabel('genre', size=15)\n",
    "plt.ylabel('rating', size=15)\n",
    "sns.boxplot(x='genre', y='rating', data=data)"
   ]
  },
  {
   "cell_type": "markdown",
   "id": "0f306922",
   "metadata": {},
   "source": [
    "#### The minimum and maximum values of ratings for war, crime, documentary, film-noir and some unknown genre tends to be different than the majority of other genres. Going off the majority, it suggests that there is no correlation between occupation and ratings.\n",
    "#### It also shows that movies of genre - war, crime, documentary and film-noir have more ratings in 4.0-5.0 mark than others.\n",
    "----------------------------------"
   ]
  },
  {
   "cell_type": "markdown",
   "id": "1d8d121f",
   "metadata": {},
   "source": [
    "### Detecting and removing outliers\n",
    "\n",
    "We may define outlier users and movies with three rules, because the dataset can be biased with these users:\n",
    "\n",
    "* users whose age is no more than 10\n",
    "* users who rate less than 20 movies\n",
    "* movies that receives less than 10 ratings (i.e., movies that are rated by less than 10 users)\n",
    " "
   ]
  },
  {
   "cell_type": "code",
   "execution_count": 15,
   "id": "1d99ecc9",
   "metadata": {},
   "outputs": [
    {
     "data": {
      "text/html": [
       "<div>\n",
       "<style scoped>\n",
       "    .dataframe tbody tr th:only-of-type {\n",
       "        vertical-align: middle;\n",
       "    }\n",
       "\n",
       "    .dataframe tbody tr th {\n",
       "        vertical-align: top;\n",
       "    }\n",
       "\n",
       "    .dataframe thead th {\n",
       "        text-align: right;\n",
       "    }\n",
       "</style>\n",
       "<table border=\"1\" class=\"dataframe\">\n",
       "  <thead>\n",
       "    <tr style=\"text-align: right;\">\n",
       "      <th></th>\n",
       "      <th>userId</th>\n",
       "      <th>age</th>\n",
       "      <th>gender</th>\n",
       "      <th>occupation</th>\n",
       "      <th>movieId</th>\n",
       "      <th>rating</th>\n",
       "      <th>genre</th>\n",
       "      <th>timestamp</th>\n",
       "    </tr>\n",
       "  </thead>\n",
       "  <tbody>\n",
       "    <tr>\n",
       "      <th>0</th>\n",
       "      <td>196</td>\n",
       "      <td>49.0</td>\n",
       "      <td>M</td>\n",
       "      <td>writer</td>\n",
       "      <td>242</td>\n",
       "      <td>3.0</td>\n",
       "      <td>Comedy</td>\n",
       "      <td>881250949</td>\n",
       "    </tr>\n",
       "    <tr>\n",
       "      <th>2</th>\n",
       "      <td>22</td>\n",
       "      <td>25.0</td>\n",
       "      <td>M</td>\n",
       "      <td>writer</td>\n",
       "      <td>377</td>\n",
       "      <td>1.0</td>\n",
       "      <td>Children</td>\n",
       "      <td>878887116</td>\n",
       "    </tr>\n",
       "    <tr>\n",
       "      <th>3</th>\n",
       "      <td>244</td>\n",
       "      <td>28.0</td>\n",
       "      <td>M</td>\n",
       "      <td>technician</td>\n",
       "      <td>51</td>\n",
       "      <td>2.0</td>\n",
       "      <td>Romance</td>\n",
       "      <td>880606923</td>\n",
       "    </tr>\n",
       "    <tr>\n",
       "      <th>5</th>\n",
       "      <td>298</td>\n",
       "      <td>44.0</td>\n",
       "      <td>M</td>\n",
       "      <td>executive</td>\n",
       "      <td>474</td>\n",
       "      <td>4.0</td>\n",
       "      <td>War</td>\n",
       "      <td>884182806</td>\n",
       "    </tr>\n",
       "    <tr>\n",
       "      <th>7</th>\n",
       "      <td>253</td>\n",
       "      <td>26.0</td>\n",
       "      <td>F</td>\n",
       "      <td>librarian</td>\n",
       "      <td>465</td>\n",
       "      <td>5.0</td>\n",
       "      <td>Adventure</td>\n",
       "      <td>891628467</td>\n",
       "    </tr>\n",
       "    <tr>\n",
       "      <th>...</th>\n",
       "      <td>...</td>\n",
       "      <td>...</td>\n",
       "      <td>...</td>\n",
       "      <td>...</td>\n",
       "      <td>...</td>\n",
       "      <td>...</td>\n",
       "      <td>...</td>\n",
       "      <td>...</td>\n",
       "    </tr>\n",
       "    <tr>\n",
       "      <th>99995</th>\n",
       "      <td>880</td>\n",
       "      <td>13.0</td>\n",
       "      <td>M</td>\n",
       "      <td>student</td>\n",
       "      <td>476</td>\n",
       "      <td>3.0</td>\n",
       "      <td>Comedy</td>\n",
       "      <td>880175444</td>\n",
       "    </tr>\n",
       "    <tr>\n",
       "      <th>99996</th>\n",
       "      <td>716</td>\n",
       "      <td>36.0</td>\n",
       "      <td>F</td>\n",
       "      <td>administrator</td>\n",
       "      <td>204</td>\n",
       "      <td>5.0</td>\n",
       "      <td>Sci-Fi</td>\n",
       "      <td>879795543</td>\n",
       "    </tr>\n",
       "    <tr>\n",
       "      <th>99997</th>\n",
       "      <td>276</td>\n",
       "      <td>21.0</td>\n",
       "      <td>M</td>\n",
       "      <td>student</td>\n",
       "      <td>1090</td>\n",
       "      <td>1.0</td>\n",
       "      <td>Thriller</td>\n",
       "      <td>874795795</td>\n",
       "    </tr>\n",
       "    <tr>\n",
       "      <th>99998</th>\n",
       "      <td>13</td>\n",
       "      <td>47.0</td>\n",
       "      <td>M</td>\n",
       "      <td>educator</td>\n",
       "      <td>225</td>\n",
       "      <td>2.0</td>\n",
       "      <td>Comedy</td>\n",
       "      <td>882399156</td>\n",
       "    </tr>\n",
       "    <tr>\n",
       "      <th>99999</th>\n",
       "      <td>12</td>\n",
       "      <td>28.0</td>\n",
       "      <td>F</td>\n",
       "      <td>other</td>\n",
       "      <td>203</td>\n",
       "      <td>3.0</td>\n",
       "      <td>Western</td>\n",
       "      <td>879959583</td>\n",
       "    </tr>\n",
       "  </tbody>\n",
       "</table>\n",
       "<p>98948 rows × 8 columns</p>\n",
       "</div>"
      ],
      "text/plain": [
       "       userId   age gender     occupation  movieId  rating      genre  \\\n",
       "0         196  49.0      M         writer      242     3.0     Comedy   \n",
       "2          22  25.0      M         writer      377     1.0   Children   \n",
       "3         244  28.0      M     technician       51     2.0    Romance   \n",
       "5         298  44.0      M      executive      474     4.0        War   \n",
       "7         253  26.0      F      librarian      465     5.0  Adventure   \n",
       "...       ...   ...    ...            ...      ...     ...        ...   \n",
       "99995     880  13.0      M        student      476     3.0     Comedy   \n",
       "99996     716  36.0      F  administrator      204     5.0     Sci-Fi   \n",
       "99997     276  21.0      M        student     1090     1.0   Thriller   \n",
       "99998      13  47.0      M       educator      225     2.0     Comedy   \n",
       "99999      12  28.0      F          other      203     3.0    Western   \n",
       "\n",
       "       timestamp  \n",
       "0      881250949  \n",
       "2      878887116  \n",
       "3      880606923  \n",
       "5      884182806  \n",
       "7      891628467  \n",
       "...          ...  \n",
       "99995  880175444  \n",
       "99996  879795543  \n",
       "99997  874795795  \n",
       "99998  882399156  \n",
       "99999  879959583  \n",
       "\n",
       "[98948 rows x 8 columns]"
      ]
     },
     "execution_count": 15,
     "metadata": {},
     "output_type": "execute_result"
    }
   ],
   "source": [
    "# Removing users who are less than 10 years of age. \n",
    "\n",
    "data_abv10 = data.drop(data.index[data['age']<=10.0])\n",
    "data_abv10\n",
    "\n",
    "# 'data_abv10' represent the dataframe of people aged more than 10."
   ]
  },
  {
   "cell_type": "code",
   "execution_count": 16,
   "id": "e7af9c2a",
   "metadata": {},
   "outputs": [
    {
     "data": {
      "text/html": [
       "<div>\n",
       "<style scoped>\n",
       "    .dataframe tbody tr th:only-of-type {\n",
       "        vertical-align: middle;\n",
       "    }\n",
       "\n",
       "    .dataframe tbody tr th {\n",
       "        vertical-align: top;\n",
       "    }\n",
       "\n",
       "    .dataframe thead th {\n",
       "        text-align: right;\n",
       "    }\n",
       "</style>\n",
       "<table border=\"1\" class=\"dataframe\">\n",
       "  <thead>\n",
       "    <tr style=\"text-align: right;\">\n",
       "      <th></th>\n",
       "      <th>userId</th>\n",
       "      <th>age</th>\n",
       "      <th>gender</th>\n",
       "      <th>occupation</th>\n",
       "      <th>movieId</th>\n",
       "      <th>rating</th>\n",
       "      <th>genre</th>\n",
       "      <th>timestamp</th>\n",
       "    </tr>\n",
       "  </thead>\n",
       "  <tbody>\n",
       "    <tr>\n",
       "      <th>0</th>\n",
       "      <td>196</td>\n",
       "      <td>49.0</td>\n",
       "      <td>M</td>\n",
       "      <td>writer</td>\n",
       "      <td>242</td>\n",
       "      <td>3.0</td>\n",
       "      <td>Comedy</td>\n",
       "      <td>881250949</td>\n",
       "    </tr>\n",
       "    <tr>\n",
       "      <th>2</th>\n",
       "      <td>22</td>\n",
       "      <td>25.0</td>\n",
       "      <td>M</td>\n",
       "      <td>writer</td>\n",
       "      <td>377</td>\n",
       "      <td>1.0</td>\n",
       "      <td>Children</td>\n",
       "      <td>878887116</td>\n",
       "    </tr>\n",
       "    <tr>\n",
       "      <th>3</th>\n",
       "      <td>244</td>\n",
       "      <td>28.0</td>\n",
       "      <td>M</td>\n",
       "      <td>technician</td>\n",
       "      <td>51</td>\n",
       "      <td>2.0</td>\n",
       "      <td>Romance</td>\n",
       "      <td>880606923</td>\n",
       "    </tr>\n",
       "    <tr>\n",
       "      <th>5</th>\n",
       "      <td>298</td>\n",
       "      <td>44.0</td>\n",
       "      <td>M</td>\n",
       "      <td>executive</td>\n",
       "      <td>474</td>\n",
       "      <td>4.0</td>\n",
       "      <td>War</td>\n",
       "      <td>884182806</td>\n",
       "    </tr>\n",
       "    <tr>\n",
       "      <th>7</th>\n",
       "      <td>253</td>\n",
       "      <td>26.0</td>\n",
       "      <td>F</td>\n",
       "      <td>librarian</td>\n",
       "      <td>465</td>\n",
       "      <td>5.0</td>\n",
       "      <td>Adventure</td>\n",
       "      <td>891628467</td>\n",
       "    </tr>\n",
       "    <tr>\n",
       "      <th>...</th>\n",
       "      <td>...</td>\n",
       "      <td>...</td>\n",
       "      <td>...</td>\n",
       "      <td>...</td>\n",
       "      <td>...</td>\n",
       "      <td>...</td>\n",
       "      <td>...</td>\n",
       "      <td>...</td>\n",
       "    </tr>\n",
       "    <tr>\n",
       "      <th>99995</th>\n",
       "      <td>880</td>\n",
       "      <td>13.0</td>\n",
       "      <td>M</td>\n",
       "      <td>student</td>\n",
       "      <td>476</td>\n",
       "      <td>3.0</td>\n",
       "      <td>Comedy</td>\n",
       "      <td>880175444</td>\n",
       "    </tr>\n",
       "    <tr>\n",
       "      <th>99996</th>\n",
       "      <td>716</td>\n",
       "      <td>36.0</td>\n",
       "      <td>F</td>\n",
       "      <td>administrator</td>\n",
       "      <td>204</td>\n",
       "      <td>5.0</td>\n",
       "      <td>Sci-Fi</td>\n",
       "      <td>879795543</td>\n",
       "    </tr>\n",
       "    <tr>\n",
       "      <th>99997</th>\n",
       "      <td>276</td>\n",
       "      <td>21.0</td>\n",
       "      <td>M</td>\n",
       "      <td>student</td>\n",
       "      <td>1090</td>\n",
       "      <td>1.0</td>\n",
       "      <td>Thriller</td>\n",
       "      <td>874795795</td>\n",
       "    </tr>\n",
       "    <tr>\n",
       "      <th>99998</th>\n",
       "      <td>13</td>\n",
       "      <td>47.0</td>\n",
       "      <td>M</td>\n",
       "      <td>educator</td>\n",
       "      <td>225</td>\n",
       "      <td>2.0</td>\n",
       "      <td>Comedy</td>\n",
       "      <td>882399156</td>\n",
       "    </tr>\n",
       "    <tr>\n",
       "      <th>99999</th>\n",
       "      <td>12</td>\n",
       "      <td>28.0</td>\n",
       "      <td>F</td>\n",
       "      <td>other</td>\n",
       "      <td>203</td>\n",
       "      <td>3.0</td>\n",
       "      <td>Western</td>\n",
       "      <td>879959583</td>\n",
       "    </tr>\n",
       "  </tbody>\n",
       "</table>\n",
       "<p>98929 rows × 8 columns</p>\n",
       "</div>"
      ],
      "text/plain": [
       "       userId   age gender     occupation  movieId  rating      genre  \\\n",
       "0         196  49.0      M         writer      242     3.0     Comedy   \n",
       "2          22  25.0      M         writer      377     1.0   Children   \n",
       "3         244  28.0      M     technician       51     2.0    Romance   \n",
       "5         298  44.0      M      executive      474     4.0        War   \n",
       "7         253  26.0      F      librarian      465     5.0  Adventure   \n",
       "...       ...   ...    ...            ...      ...     ...        ...   \n",
       "99995     880  13.0      M        student      476     3.0     Comedy   \n",
       "99996     716  36.0      F  administrator      204     5.0     Sci-Fi   \n",
       "99997     276  21.0      M        student     1090     1.0   Thriller   \n",
       "99998      13  47.0      M       educator      225     2.0     Comedy   \n",
       "99999      12  28.0      F          other      203     3.0    Western   \n",
       "\n",
       "       timestamp  \n",
       "0      881250949  \n",
       "2      878887116  \n",
       "3      880606923  \n",
       "5      884182806  \n",
       "7      891628467  \n",
       "...          ...  \n",
       "99995  880175444  \n",
       "99996  879795543  \n",
       "99997  874795795  \n",
       "99998  882399156  \n",
       "99999  879959583  \n",
       "\n",
       "[98929 rows x 8 columns]"
      ]
     },
     "execution_count": 16,
     "metadata": {},
     "output_type": "execute_result"
    }
   ],
   "source": [
    "# Removing users who rate less than 20 movies\n",
    "\n",
    "data_no20 = data_abv10.drop(data_abv10.index[data_abv10.userId.isin(user_ratings[user_ratings<20].index)])\n",
    "data_no20"
   ]
  },
  {
   "cell_type": "code",
   "execution_count": 17,
   "id": "1f336f6f",
   "metadata": {},
   "outputs": [
    {
     "data": {
      "text/html": [
       "<div>\n",
       "<style scoped>\n",
       "    .dataframe tbody tr th:only-of-type {\n",
       "        vertical-align: middle;\n",
       "    }\n",
       "\n",
       "    .dataframe tbody tr th {\n",
       "        vertical-align: top;\n",
       "    }\n",
       "\n",
       "    .dataframe thead th {\n",
       "        text-align: right;\n",
       "    }\n",
       "</style>\n",
       "<table border=\"1\" class=\"dataframe\">\n",
       "  <thead>\n",
       "    <tr style=\"text-align: right;\">\n",
       "      <th></th>\n",
       "      <th>userId</th>\n",
       "      <th>age</th>\n",
       "      <th>gender</th>\n",
       "      <th>occupation</th>\n",
       "      <th>movieId</th>\n",
       "      <th>rating</th>\n",
       "      <th>genre</th>\n",
       "      <th>timestamp</th>\n",
       "    </tr>\n",
       "  </thead>\n",
       "  <tbody>\n",
       "    <tr>\n",
       "      <th>0</th>\n",
       "      <td>196</td>\n",
       "      <td>49.0</td>\n",
       "      <td>M</td>\n",
       "      <td>writer</td>\n",
       "      <td>242</td>\n",
       "      <td>3.0</td>\n",
       "      <td>Comedy</td>\n",
       "      <td>881250949</td>\n",
       "    </tr>\n",
       "    <tr>\n",
       "      <th>2</th>\n",
       "      <td>22</td>\n",
       "      <td>25.0</td>\n",
       "      <td>M</td>\n",
       "      <td>writer</td>\n",
       "      <td>377</td>\n",
       "      <td>1.0</td>\n",
       "      <td>Children</td>\n",
       "      <td>878887116</td>\n",
       "    </tr>\n",
       "    <tr>\n",
       "      <th>3</th>\n",
       "      <td>244</td>\n",
       "      <td>28.0</td>\n",
       "      <td>M</td>\n",
       "      <td>technician</td>\n",
       "      <td>51</td>\n",
       "      <td>2.0</td>\n",
       "      <td>Romance</td>\n",
       "      <td>880606923</td>\n",
       "    </tr>\n",
       "    <tr>\n",
       "      <th>5</th>\n",
       "      <td>298</td>\n",
       "      <td>44.0</td>\n",
       "      <td>M</td>\n",
       "      <td>executive</td>\n",
       "      <td>474</td>\n",
       "      <td>4.0</td>\n",
       "      <td>War</td>\n",
       "      <td>884182806</td>\n",
       "    </tr>\n",
       "    <tr>\n",
       "      <th>7</th>\n",
       "      <td>253</td>\n",
       "      <td>26.0</td>\n",
       "      <td>F</td>\n",
       "      <td>librarian</td>\n",
       "      <td>465</td>\n",
       "      <td>5.0</td>\n",
       "      <td>Adventure</td>\n",
       "      <td>891628467</td>\n",
       "    </tr>\n",
       "    <tr>\n",
       "      <th>...</th>\n",
       "      <td>...</td>\n",
       "      <td>...</td>\n",
       "      <td>...</td>\n",
       "      <td>...</td>\n",
       "      <td>...</td>\n",
       "      <td>...</td>\n",
       "      <td>...</td>\n",
       "      <td>...</td>\n",
       "    </tr>\n",
       "    <tr>\n",
       "      <th>99995</th>\n",
       "      <td>880</td>\n",
       "      <td>13.0</td>\n",
       "      <td>M</td>\n",
       "      <td>student</td>\n",
       "      <td>476</td>\n",
       "      <td>3.0</td>\n",
       "      <td>Comedy</td>\n",
       "      <td>880175444</td>\n",
       "    </tr>\n",
       "    <tr>\n",
       "      <th>99996</th>\n",
       "      <td>716</td>\n",
       "      <td>36.0</td>\n",
       "      <td>F</td>\n",
       "      <td>administrator</td>\n",
       "      <td>204</td>\n",
       "      <td>5.0</td>\n",
       "      <td>Sci-Fi</td>\n",
       "      <td>879795543</td>\n",
       "    </tr>\n",
       "    <tr>\n",
       "      <th>99997</th>\n",
       "      <td>276</td>\n",
       "      <td>21.0</td>\n",
       "      <td>M</td>\n",
       "      <td>student</td>\n",
       "      <td>1090</td>\n",
       "      <td>1.0</td>\n",
       "      <td>Thriller</td>\n",
       "      <td>874795795</td>\n",
       "    </tr>\n",
       "    <tr>\n",
       "      <th>99998</th>\n",
       "      <td>13</td>\n",
       "      <td>47.0</td>\n",
       "      <td>M</td>\n",
       "      <td>educator</td>\n",
       "      <td>225</td>\n",
       "      <td>2.0</td>\n",
       "      <td>Comedy</td>\n",
       "      <td>882399156</td>\n",
       "    </tr>\n",
       "    <tr>\n",
       "      <th>99999</th>\n",
       "      <td>12</td>\n",
       "      <td>28.0</td>\n",
       "      <td>F</td>\n",
       "      <td>other</td>\n",
       "      <td>203</td>\n",
       "      <td>3.0</td>\n",
       "      <td>Western</td>\n",
       "      <td>879959583</td>\n",
       "    </tr>\n",
       "  </tbody>\n",
       "</table>\n",
       "<p>96854 rows × 8 columns</p>\n",
       "</div>"
      ],
      "text/plain": [
       "       userId   age gender     occupation  movieId  rating      genre  \\\n",
       "0         196  49.0      M         writer      242     3.0     Comedy   \n",
       "2          22  25.0      M         writer      377     1.0   Children   \n",
       "3         244  28.0      M     technician       51     2.0    Romance   \n",
       "5         298  44.0      M      executive      474     4.0        War   \n",
       "7         253  26.0      F      librarian      465     5.0  Adventure   \n",
       "...       ...   ...    ...            ...      ...     ...        ...   \n",
       "99995     880  13.0      M        student      476     3.0     Comedy   \n",
       "99996     716  36.0      F  administrator      204     5.0     Sci-Fi   \n",
       "99997     276  21.0      M        student     1090     1.0   Thriller   \n",
       "99998      13  47.0      M       educator      225     2.0     Comedy   \n",
       "99999      12  28.0      F          other      203     3.0    Western   \n",
       "\n",
       "       timestamp  \n",
       "0      881250949  \n",
       "2      878887116  \n",
       "3      880606923  \n",
       "5      884182806  \n",
       "7      891628467  \n",
       "...          ...  \n",
       "99995  880175444  \n",
       "99996  879795543  \n",
       "99997  874795795  \n",
       "99998  882399156  \n",
       "99999  879959583  \n",
       "\n",
       "[96854 rows x 8 columns]"
      ]
     },
     "execution_count": 17,
     "metadata": {},
     "output_type": "execute_result"
    }
   ],
   "source": [
    "#Removing the movies which recieved less than 10 ratings\n",
    "\n",
    "clean_data = data_no20.drop(data_no20.index[data_no20.movieId.isin(movies_ratings[movies_ratings<10].index)])\n",
    "clean_data"
   ]
  },
  {
   "cell_type": "code",
   "execution_count": 18,
   "id": "01597e01",
   "metadata": {},
   "outputs": [
    {
     "name": "stdout",
     "output_type": "stream",
     "text": [
      "Length of dataset after removing outliers: 96854\n"
     ]
    }
   ],
   "source": [
    "print(f\"Length of dataset after removing outliers: {len(clean_data)}\")"
   ]
  },
  {
   "cell_type": "markdown",
   "id": "ae0668ab",
   "metadata": {},
   "source": [
    "## Length of dataset after removing outliers - *96854*"
   ]
  },
  {
   "cell_type": "markdown",
   "id": "af392563",
   "metadata": {},
   "source": [
    "\n",
    "----------"
   ]
  },
  {
   "cell_type": "markdown",
   "id": "fc84de4a",
   "metadata": {},
   "source": [
    "### Converting the cleaned dataset to a csv file."
   ]
  },
  {
   "cell_type": "code",
   "execution_count": 19,
   "id": "68767a06",
   "metadata": {},
   "outputs": [],
   "source": [
    "clean_data.to_csv('movielens_data_clean.csv', index=False)"
   ]
  },
  {
   "cell_type": "markdown",
   "id": "9eab09e5",
   "metadata": {},
   "source": [
    "---"
   ]
  }
 ],
 "metadata": {
  "kernelspec": {
   "display_name": "Python 3 (ipykernel)",
   "language": "python",
   "name": "python3"
  },
  "language_info": {
   "codemirror_mode": {
    "name": "ipython",
    "version": 3
   },
   "file_extension": ".py",
   "mimetype": "text/x-python",
   "name": "python",
   "nbconvert_exporter": "python",
   "pygments_lexer": "ipython3",
   "version": "3.9.7"
  }
 },
 "nbformat": 4,
 "nbformat_minor": 5
}
