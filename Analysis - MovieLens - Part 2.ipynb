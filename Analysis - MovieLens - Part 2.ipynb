{
 "cells": [
  {
   "cell_type": "markdown",
   "id": "74bd35d7",
   "metadata": {},
   "source": [
    "## Analysis of MovieLens Data - Part 2"
   ]
  },
  {
   "cell_type": "markdown",
   "id": "b154a46c",
   "metadata": {},
   "source": [
    "The goal of the second part is to train linear regression models to predict users' ratings towards movies. This involves a standard Data Science workflow: exploring data, building models, making predictions, and evaluating results. In this task, we will explore the impacts of feature selections and different sizes of training/testing data on the model performance. We will continue using the cleaned movielens dataset from Part 1. "
   ]
  },
  {
   "cell_type": "markdown",
   "id": "2566945d",
   "metadata": {},
   "source": [
    "### Importing the packages\n"
   ]
  },
  {
   "cell_type": "code",
   "execution_count": 1,
   "id": "77e7deaa",
   "metadata": {},
   "outputs": [],
   "source": [
    "import pandas as pd\n",
    "import numpy as np\n",
    "from sklearn.model_selection import train_test_split\n",
    "from sklearn import linear_model\n",
    "from sklearn.metrics import mean_squared_error\n",
    "from sklearn.metrics import r2_score\n",
    "import seaborn as sns\n",
    "import matplotlib.pylab as plt\n",
    "%matplotlib inline"
   ]
  },
  {
   "cell_type": "markdown",
   "id": "130425f8",
   "metadata": {},
   "source": [
    "### Loading the cleaned dataset from Part 1"
   ]
  },
  {
   "cell_type": "code",
   "execution_count": 2,
   "id": "6d446fcd",
   "metadata": {},
   "outputs": [],
   "source": [
    "df = pd.read_csv('movielens_data_clean.csv')"
   ]
  },
  {
   "cell_type": "code",
   "execution_count": 3,
   "id": "4aa6944a",
   "metadata": {},
   "outputs": [
    {
     "name": "stdout",
     "output_type": "stream",
     "text": [
      "Length of dataset: 96854\n"
     ]
    }
   ],
   "source": [
    "print(f\"Length of dataset: {len(df)}\")"
   ]
  },
  {
   "cell_type": "markdown",
   "id": "d19e2056",
   "metadata": {},
   "source": [
    " -------------------"
   ]
  },
  {
   "cell_type": "markdown",
   "id": "2a656b42",
   "metadata": {},
   "source": [
    "### Exploring the cleaned dataset"
   ]
  },
  {
   "cell_type": "code",
   "execution_count": 4,
   "id": "b722522d",
   "metadata": {},
   "outputs": [
    {
     "data": {
      "text/html": [
       "<div>\n",
       "<style scoped>\n",
       "    .dataframe tbody tr th:only-of-type {\n",
       "        vertical-align: middle;\n",
       "    }\n",
       "\n",
       "    .dataframe tbody tr th {\n",
       "        vertical-align: top;\n",
       "    }\n",
       "\n",
       "    .dataframe thead th {\n",
       "        text-align: right;\n",
       "    }\n",
       "</style>\n",
       "<table border=\"1\" class=\"dataframe\">\n",
       "  <thead>\n",
       "    <tr style=\"text-align: right;\">\n",
       "      <th></th>\n",
       "      <th>userId</th>\n",
       "      <th>age</th>\n",
       "      <th>gender</th>\n",
       "      <th>occupation</th>\n",
       "      <th>movieId</th>\n",
       "      <th>rating</th>\n",
       "      <th>genre</th>\n",
       "      <th>timestamp</th>\n",
       "    </tr>\n",
       "  </thead>\n",
       "  <tbody>\n",
       "    <tr>\n",
       "      <th>0</th>\n",
       "      <td>196</td>\n",
       "      <td>49.0</td>\n",
       "      <td>M</td>\n",
       "      <td>writer</td>\n",
       "      <td>242</td>\n",
       "      <td>3.0</td>\n",
       "      <td>Comedy</td>\n",
       "      <td>881250949</td>\n",
       "    </tr>\n",
       "    <tr>\n",
       "      <th>1</th>\n",
       "      <td>22</td>\n",
       "      <td>25.0</td>\n",
       "      <td>M</td>\n",
       "      <td>writer</td>\n",
       "      <td>377</td>\n",
       "      <td>1.0</td>\n",
       "      <td>Children</td>\n",
       "      <td>878887116</td>\n",
       "    </tr>\n",
       "    <tr>\n",
       "      <th>2</th>\n",
       "      <td>244</td>\n",
       "      <td>28.0</td>\n",
       "      <td>M</td>\n",
       "      <td>technician</td>\n",
       "      <td>51</td>\n",
       "      <td>2.0</td>\n",
       "      <td>Romance</td>\n",
       "      <td>880606923</td>\n",
       "    </tr>\n",
       "    <tr>\n",
       "      <th>3</th>\n",
       "      <td>298</td>\n",
       "      <td>44.0</td>\n",
       "      <td>M</td>\n",
       "      <td>executive</td>\n",
       "      <td>474</td>\n",
       "      <td>4.0</td>\n",
       "      <td>War</td>\n",
       "      <td>884182806</td>\n",
       "    </tr>\n",
       "    <tr>\n",
       "      <th>4</th>\n",
       "      <td>253</td>\n",
       "      <td>26.0</td>\n",
       "      <td>F</td>\n",
       "      <td>librarian</td>\n",
       "      <td>465</td>\n",
       "      <td>5.0</td>\n",
       "      <td>Adventure</td>\n",
       "      <td>891628467</td>\n",
       "    </tr>\n",
       "  </tbody>\n",
       "</table>\n",
       "</div>"
      ],
      "text/plain": [
       "   userId   age gender  occupation  movieId  rating      genre  timestamp\n",
       "0     196  49.0      M      writer      242     3.0     Comedy  881250949\n",
       "1      22  25.0      M      writer      377     1.0   Children  878887116\n",
       "2     244  28.0      M  technician       51     2.0    Romance  880606923\n",
       "3     298  44.0      M   executive      474     4.0        War  884182806\n",
       "4     253  26.0      F   librarian      465     5.0  Adventure  891628467"
      ]
     },
     "execution_count": 4,
     "metadata": {},
     "output_type": "execute_result"
    }
   ],
   "source": [
    "df.head()"
   ]
  },
  {
   "cell_type": "code",
   "execution_count": 5,
   "id": "1b76ef89",
   "metadata": {},
   "outputs": [
    {
     "name": "stdout",
     "output_type": "stream",
     "text": [
      "<class 'pandas.core.frame.DataFrame'>\n",
      "RangeIndex: 96854 entries, 0 to 96853\n",
      "Data columns (total 8 columns):\n",
      " #   Column      Non-Null Count  Dtype  \n",
      "---  ------      --------------  -----  \n",
      " 0   userId      96854 non-null  int64  \n",
      " 1   age         96854 non-null  float64\n",
      " 2   gender      96854 non-null  object \n",
      " 3   occupation  96854 non-null  object \n",
      " 4   movieId     96854 non-null  int64  \n",
      " 5   rating      96854 non-null  float64\n",
      " 6   genre       96854 non-null  object \n",
      " 7   timestamp   96854 non-null  int64  \n",
      "dtypes: float64(2), int64(3), object(3)\n",
      "memory usage: 5.9+ MB\n"
     ]
    }
   ],
   "source": [
    "df.info()"
   ]
  },
  {
   "cell_type": "markdown",
   "id": "a514a0e2",
   "metadata": {},
   "source": [
    "#### There are 8 columns and 96854 rows.\n",
    "#### To get the correlation matrix between age, gender, genre, occupation and rating, we'll first need to convert the given categorical features(gender, genre and occupation) into numerical features, and to do that we'll use OrdinalEncoder by sklearn.\n"
   ]
  },
  {
   "cell_type": "code",
   "execution_count": 6,
   "id": "a5a40b2b",
   "metadata": {},
   "outputs": [],
   "source": [
    "from sklearn.preprocessing import OrdinalEncoder\n",
    "enc = OrdinalEncoder()"
   ]
  },
  {
   "cell_type": "code",
   "execution_count": 7,
   "id": "000201f8",
   "metadata": {},
   "outputs": [],
   "source": [
    "# transforming the categorical features to numerical features\n",
    "\n",
    "df[[\"gender\",\"occupation\", \"genre\"]] = enc.fit_transform(df[[\"gender\",\"occupation\", \"genre\"]])"
   ]
  },
  {
   "cell_type": "code",
   "execution_count": 8,
   "id": "53a6d2ba",
   "metadata": {},
   "outputs": [
    {
     "data": {
      "text/html": [
       "<div>\n",
       "<style scoped>\n",
       "    .dataframe tbody tr th:only-of-type {\n",
       "        vertical-align: middle;\n",
       "    }\n",
       "\n",
       "    .dataframe tbody tr th {\n",
       "        vertical-align: top;\n",
       "    }\n",
       "\n",
       "    .dataframe thead th {\n",
       "        text-align: right;\n",
       "    }\n",
       "</style>\n",
       "<table border=\"1\" class=\"dataframe\">\n",
       "  <thead>\n",
       "    <tr style=\"text-align: right;\">\n",
       "      <th></th>\n",
       "      <th>age</th>\n",
       "      <th>gender</th>\n",
       "      <th>genre</th>\n",
       "      <th>occupation</th>\n",
       "      <th>rating</th>\n",
       "    </tr>\n",
       "  </thead>\n",
       "  <tbody>\n",
       "    <tr>\n",
       "      <th>0</th>\n",
       "      <td>49.0</td>\n",
       "      <td>1.0</td>\n",
       "      <td>4.0</td>\n",
       "      <td>19.0</td>\n",
       "      <td>3.0</td>\n",
       "    </tr>\n",
       "    <tr>\n",
       "      <th>1</th>\n",
       "      <td>25.0</td>\n",
       "      <td>1.0</td>\n",
       "      <td>3.0</td>\n",
       "      <td>19.0</td>\n",
       "      <td>1.0</td>\n",
       "    </tr>\n",
       "    <tr>\n",
       "      <th>2</th>\n",
       "      <td>28.0</td>\n",
       "      <td>1.0</td>\n",
       "      <td>13.0</td>\n",
       "      <td>18.0</td>\n",
       "      <td>2.0</td>\n",
       "    </tr>\n",
       "    <tr>\n",
       "      <th>3</th>\n",
       "      <td>44.0</td>\n",
       "      <td>1.0</td>\n",
       "      <td>16.0</td>\n",
       "      <td>6.0</td>\n",
       "      <td>4.0</td>\n",
       "    </tr>\n",
       "    <tr>\n",
       "      <th>4</th>\n",
       "      <td>26.0</td>\n",
       "      <td>0.0</td>\n",
       "      <td>1.0</td>\n",
       "      <td>10.0</td>\n",
       "      <td>5.0</td>\n",
       "    </tr>\n",
       "  </tbody>\n",
       "</table>\n",
       "</div>"
      ],
      "text/plain": [
       "    age  gender  genre  occupation  rating\n",
       "0  49.0     1.0    4.0        19.0     3.0\n",
       "1  25.0     1.0    3.0        19.0     1.0\n",
       "2  28.0     1.0   13.0        18.0     2.0\n",
       "3  44.0     1.0   16.0         6.0     4.0\n",
       "4  26.0     0.0    1.0        10.0     5.0"
      ]
     },
     "execution_count": 8,
     "metadata": {},
     "output_type": "execute_result"
    }
   ],
   "source": [
    "# now that the categorical features have been converted into numerical, we can find the correlation matrix.\n",
    "\n",
    "data = df[['age', 'gender', 'genre', 'occupation', 'rating']]\n",
    "data.head()\n"
   ]
  },
  {
   "cell_type": "code",
   "execution_count": 9,
   "id": "f1bf34e8",
   "metadata": {},
   "outputs": [
    {
     "data": {
      "text/html": [
       "<div>\n",
       "<style scoped>\n",
       "    .dataframe tbody tr th:only-of-type {\n",
       "        vertical-align: middle;\n",
       "    }\n",
       "\n",
       "    .dataframe tbody tr th {\n",
       "        vertical-align: top;\n",
       "    }\n",
       "\n",
       "    .dataframe thead th {\n",
       "        text-align: right;\n",
       "    }\n",
       "</style>\n",
       "<table border=\"1\" class=\"dataframe\">\n",
       "  <thead>\n",
       "    <tr style=\"text-align: right;\">\n",
       "      <th></th>\n",
       "      <th>age</th>\n",
       "      <th>gender</th>\n",
       "      <th>genre</th>\n",
       "      <th>occupation</th>\n",
       "      <th>rating</th>\n",
       "    </tr>\n",
       "  </thead>\n",
       "  <tbody>\n",
       "    <tr>\n",
       "      <th>age</th>\n",
       "      <td>1.000000</td>\n",
       "      <td>0.037126</td>\n",
       "      <td>0.027286</td>\n",
       "      <td>-0.370879</td>\n",
       "      <td>0.051724</td>\n",
       "    </tr>\n",
       "    <tr>\n",
       "      <th>gender</th>\n",
       "      <td>0.037126</td>\n",
       "      <td>1.000000</td>\n",
       "      <td>-0.000509</td>\n",
       "      <td>0.012117</td>\n",
       "      <td>-0.007239</td>\n",
       "    </tr>\n",
       "    <tr>\n",
       "      <th>genre</th>\n",
       "      <td>0.027286</td>\n",
       "      <td>-0.000509</td>\n",
       "      <td>1.000000</td>\n",
       "      <td>-0.011443</td>\n",
       "      <td>0.045250</td>\n",
       "    </tr>\n",
       "    <tr>\n",
       "      <th>occupation</th>\n",
       "      <td>-0.370879</td>\n",
       "      <td>0.012117</td>\n",
       "      <td>-0.011443</td>\n",
       "      <td>1.000000</td>\n",
       "      <td>-0.033717</td>\n",
       "    </tr>\n",
       "    <tr>\n",
       "      <th>rating</th>\n",
       "      <td>0.051724</td>\n",
       "      <td>-0.007239</td>\n",
       "      <td>0.045250</td>\n",
       "      <td>-0.033717</td>\n",
       "      <td>1.000000</td>\n",
       "    </tr>\n",
       "  </tbody>\n",
       "</table>\n",
       "</div>"
      ],
      "text/plain": [
       "                 age    gender     genre  occupation    rating\n",
       "age         1.000000  0.037126  0.027286   -0.370879  0.051724\n",
       "gender      0.037126  1.000000 -0.000509    0.012117 -0.007239\n",
       "genre       0.027286 -0.000509  1.000000   -0.011443  0.045250\n",
       "occupation -0.370879  0.012117 -0.011443    1.000000 -0.033717\n",
       "rating      0.051724 -0.007239  0.045250   -0.033717  1.000000"
      ]
     },
     "execution_count": 9,
     "metadata": {},
     "output_type": "execute_result"
    }
   ],
   "source": [
    "# finding correlation between features\n",
    "\n",
    "data.corr()"
   ]
  },
  {
   "cell_type": "markdown",
   "id": "89e716cb",
   "metadata": {},
   "source": [
    "#### From the correlation matrix, it is evident that 'age' and 'genre' have positive correlation with 'rating' while 'occupation' and 'gender' have negative correlation with 'rating'. The correlation of a feature with itself is always 1, which is evident by looking at the slanting values in the correlation matrix. \n",
    "#### Also, 'age' and 'genre' have strong correlation with 'rating', while 'gender' and 'occupation' have the least correlation with 'rating'.\n",
    "#### We don't take 'userId' and 'movieId' into account for correlation and training/testing since they are unique identifiers. 'timestamp' will also not be counted as a valid predictor to affect the model, in anyway.\n",
    " ----------------------------------------------------------"
   ]
  },
  {
   "cell_type": "markdown",
   "id": "7606c849",
   "metadata": {},
   "source": [
    "### Splitting Training and Testing Data\n",
    "* Machine learning models are trained to help make predictions for the future. Normally, we need to randomly split the dataset into training and testing sets, where we use the training set to train the model, and then leverage the well-trained model to make predictions on the testing set. \n",
    "* To further investigate whether the size of the training/testing data affects the model performance, we will randomly split the data into training and testing sets with different sizes:\n",
    "    * Case 1: training data containing 10% of the entire data;\n",
    "    * Case 2: training data containing 90% of the entire data. "
   ]
  },
  {
   "cell_type": "code",
   "execution_count": 10,
   "id": "f8eeeec6",
   "metadata": {},
   "outputs": [],
   "source": [
    "# CASE 1: splitting training data to contain 10% of the entire data\n",
    "train_1, test_1 = train_test_split(data, train_size=0.1, random_state=2101)\n",
    "\n",
    "# CASE 2: splitting training data to contain 90% of the entire data\n",
    "train_2, test_2 = train_test_split(data, train_size=0.9, random_state=2101)"
   ]
  },
  {
   "cell_type": "code",
   "execution_count": 11,
   "id": "df4002de",
   "metadata": {},
   "outputs": [
    {
     "name": "stdout",
     "output_type": "stream",
     "text": [
      "CASE 1: Length of the sets is: \n",
      "Length of training data:  (9685, 5)\n",
      "Length of testing data:  (87169, 5)\n"
     ]
    }
   ],
   "source": [
    "print(\"CASE 1: Length of the sets is: \")\n",
    "print(\"Length of training data: \", train_1.shape)\n",
    "print(\"Length of testing data: \", test_1.shape)"
   ]
  },
  {
   "cell_type": "code",
   "execution_count": 12,
   "id": "b0c6ff9b",
   "metadata": {},
   "outputs": [
    {
     "name": "stdout",
     "output_type": "stream",
     "text": [
      "CASE 2: Length of the sets is: \n",
      "Length of training data:  (87168, 5)\n",
      "Length of testing data:  (9686, 5)\n"
     ]
    }
   ],
   "source": [
    "print(\"CASE 2: Length of the sets is: \")\n",
    "print(\"Length of training data: \", train_2.shape)\n",
    "print(\"Length of testing data: \", test_2.shape)"
   ]
  },
  {
   "cell_type": "markdown",
   "id": "81a1d848",
   "metadata": {},
   "source": [
    "#### The length of testing and training sets in Case 1 and 2 have been printed.\n",
    " ----------------------------------------------------------"
   ]
  },
  {
   "cell_type": "markdown",
   "id": "14600224",
   "metadata": {},
   "source": [
    "# Training Linear Regression Models with Feature Selection under Cases 1 & 2\n",
    "* When training a machine learning model for prediction, we may need to select the most important/correlated input features for more accurate results. \n",
    "* To investigate whether feature selection affects the model performance, we will select two most correlated features and two least correlated features regarding rating, respectively. \n",
    "* Training four linear regression models by following the conditions:\n",
    "    - (model-a) using the training/testing data in case 1 with two most correlated input features\n",
    "    - (model-b) using the training/testing data in case 1 with two least correlated input features\n",
    "    - (model-c) using the training/testing data in case 2 with two most correlated input features\n",
    "    - (model-d) using the training/testing data in case 2 with two least correlated input features\n",
    "* By doing this, we can verify the impacts of the size of traing/testing data on the model performance via comparing model-a and model-c (or model-b and model-d); meanwhile the impacts of feature selection can be validated via comparing model-a and model-b (or model-c and model-d).    "
   ]
  },
  {
   "cell_type": "markdown",
   "id": "c7a00f72",
   "metadata": {},
   "source": [
    "### 'age' and 'genre' are two most correlated features with 'rating', while 'gender' and 'occupation' have the least correlation with 'rating'."
   ]
  },
  {
   "cell_type": "code",
   "execution_count": 13,
   "id": "bee417e0",
   "metadata": {},
   "outputs": [
    {
     "data": {
      "text/plain": [
       "LinearRegression()"
      ]
     },
     "execution_count": 13,
     "metadata": {},
     "output_type": "execute_result"
    }
   ],
   "source": [
    "# Model-a: Two most correlated features to 'rating' are 'genre' and 'age', Case 1 \n",
    "\n",
    "x_train_1 = train_1[['genre', 'age']]\n",
    "y_train_1 = train_1['rating']\n",
    "x_test_1 = test_1[['genre', 'age']]\n",
    "y_test_1 = test_1['rating']\n",
    "\n",
    "# Training stage for Model-a\n",
    "reg1 = linear_model.LinearRegression()\n",
    "reg1.fit(x_train_1, y_train_1)\n"
   ]
  },
  {
   "cell_type": "code",
   "execution_count": 14,
   "id": "a834323e",
   "metadata": {},
   "outputs": [
    {
     "data": {
      "text/plain": [
       "LinearRegression()"
      ]
     },
     "execution_count": 14,
     "metadata": {},
     "output_type": "execute_result"
    }
   ],
   "source": [
    "# Model-b: Two least correlated features to 'rating' are 'occupation' and 'gender', Case 1 \n",
    "\n",
    "X_train_1 = train_1[['occupation', 'gender']]\n",
    "Y_train_1 = train_1['rating']\n",
    "X_test_1 = test_1[['occupation', 'gender']]\n",
    "Y_test_1 = test_1['rating']\n",
    "\n",
    "# Training stage for Model-b\n",
    "reg2 = linear_model.LinearRegression()\n",
    "reg2.fit(X_train_1, Y_train_1)"
   ]
  },
  {
   "cell_type": "code",
   "execution_count": 15,
   "id": "aad50702",
   "metadata": {},
   "outputs": [
    {
     "data": {
      "text/plain": [
       "LinearRegression()"
      ]
     },
     "execution_count": 15,
     "metadata": {},
     "output_type": "execute_result"
    }
   ],
   "source": [
    "# Model-c: Two most correlated features to 'rating' are 'genre' and 'age', Case 2 \n",
    "\n",
    "x_train_2 = train_2[['genre', 'age']]\n",
    "y_train_2 = train_2['rating']\n",
    "x_test_2 = test_2[['genre', 'age']]\n",
    "y_test_2 = test_2['rating']\n",
    "\n",
    "# Training stage for Model-c\n",
    "reg3 = linear_model.LinearRegression()\n",
    "reg3.fit(x_train_2, y_train_2)"
   ]
  },
  {
   "cell_type": "code",
   "execution_count": 16,
   "id": "78aee3d0",
   "metadata": {},
   "outputs": [
    {
     "data": {
      "text/plain": [
       "LinearRegression()"
      ]
     },
     "execution_count": 16,
     "metadata": {},
     "output_type": "execute_result"
    }
   ],
   "source": [
    "# Model-d: Two least correlated features to 'rating' are 'occupation' and 'gender', Case 2\n",
    "\n",
    "X_train_2 = train_2[['occupation', 'gender']]\n",
    "Y_train_2 = train_2['rating']\n",
    "X_test_2 = test_2[['occupation', 'gender']]\n",
    "Y_test_2 = test_2['rating']\n",
    "\n",
    "# Training stage for Model-d\n",
    "reg4 = linear_model.LinearRegression()\n",
    "reg4.fit(X_train_2, Y_train_2)"
   ]
  },
  {
   "cell_type": "markdown",
   "id": "36daeab5",
   "metadata": {},
   "source": [
    " ----------------------------------------------------------"
   ]
  },
  {
   "cell_type": "markdown",
   "id": "f85c7279",
   "metadata": {},
   "source": [
    "### Evaluating the models\n",
    "The performance of the four models with two metrics, including [MSE](https://en.wikipedia.org/wiki/Mean_squared_error) and [Root MSE](https://en.wikipedia.org/wiki/Root-mean-square_deviation)"
   ]
  },
  {
   "cell_type": "code",
   "execution_count": 17,
   "id": "d000c535",
   "metadata": {},
   "outputs": [
    {
     "name": "stdout",
     "output_type": "stream",
     "text": [
      "Train set performance of Model-a: \n",
      "MSE:  1.2446675457976792\n",
      "Root MSE:  1.115646693984112\n",
      "R-Squared:  0.005433180932044479\n",
      "\n",
      "Test set performance of Model-a: \n",
      "MSE:  1.2396814246537344\n",
      "Root MSE:  1.113409818824019\n",
      "R-Squared:  0.004149052256836372\n"
     ]
    }
   ],
   "source": [
    "# evaluation of Model-a\n",
    "\n",
    "trainprediction_1 = reg1.predict(x_train_1)\n",
    "train_mse_1 = mean_squared_error(y_train_1, trainprediction_1)\n",
    "train_rmse_1 = np.sqrt(train_mse_1)\n",
    "r2_1 = r2_score(y_train_1, trainprediction_1)\n",
    "print(\"Train set performance of Model-a: \")\n",
    "print(\"MSE: \", train_mse_1)\n",
    "print(\"Root MSE: \", train_rmse_1)\n",
    "print(\"R-Squared: \", r2_1)\n",
    "\n",
    "testprediction_1 = reg1.predict(x_test_1)\n",
    "test_mse_1 = mean_squared_error(y_test_1, testprediction_1)\n",
    "test_rmse_1 = np.sqrt(test_mse_1)\n",
    "r2_2 = r2_score(y_test_1, testprediction_1)\n",
    "print(\"\\nTest set performance of Model-a: \")\n",
    "print(\"MSE: \", test_mse_1)\n",
    "print(\"Root MSE: \",test_rmse_1)\n",
    "print(\"R-Squared: \", r2_2)"
   ]
  },
  {
   "cell_type": "code",
   "execution_count": 18,
   "id": "8d4b018b",
   "metadata": {},
   "outputs": [
    {
     "name": "stdout",
     "output_type": "stream",
     "text": [
      "Train set performance of Model-b: \n",
      "MSE:  1.249333759474045\n",
      "Root MSE:  1.1177359972167153\n",
      "R-Squared:  0.0017045858474669107\n",
      "\n",
      "Test set performance of Model-b: \n",
      "MSE:  1.2435587998944895\n",
      "Root MSE:  1.1151496760051942\n",
      "R-Squared:  0.0010343102501628731\n"
     ]
    }
   ],
   "source": [
    "# evaluation of Model-b\n",
    "trainprediction_2 = reg2.predict(X_train_1)\n",
    "train_mse_2 = mean_squared_error(Y_train_1, trainprediction_2)\n",
    "train_rmse_2 = np.sqrt(train_mse_2)\n",
    "r2_3 = r2_score(Y_train_1, trainprediction_2)\n",
    "print(\"Train set performance of Model-b: \")\n",
    "print(\"MSE: \", train_mse_2)\n",
    "print(\"Root MSE: \", train_rmse_2)\n",
    "print(\"R-Squared: \", r2_3)\n",
    "\n",
    "testprediction_2 = reg2.predict(X_test_1)\n",
    "test_mse_2 = mean_squared_error(Y_test_1, testprediction_2)\n",
    "test_rmse_2 = np.sqrt(test_mse_2)\n",
    "r2_4 = r2_score(Y_test_1, testprediction_2)\n",
    "print(\"\\nTest set performance of Model-b: \")\n",
    "print(\"MSE: \", test_mse_2)\n",
    "print(\"Root MSE: \", test_rmse_2)\n",
    "print(\"R-Squared: \", r2_4)"
   ]
  },
  {
   "cell_type": "code",
   "execution_count": 19,
   "id": "30db5482",
   "metadata": {},
   "outputs": [
    {
     "name": "stdout",
     "output_type": "stream",
     "text": [
      "Train set performance of Model-c: \n",
      "MSE:  1.2408857941709557\n",
      "Root MSE:  1.1139505348851697\n",
      "R-Squared:  0.004618113260420276\n",
      "\n",
      "Test set performance of Model-c: \n",
      "MSE:  1.2299137504463262\n",
      "Root MSE:  1.109014765657485\n",
      "R-Squared:  0.0040976367479381715\n"
     ]
    }
   ],
   "source": [
    "# evaluation of Model-c\n",
    "trainprediction_3 = reg3.predict(x_train_2)\n",
    "train_mse_3 = mean_squared_error(y_train_2, trainprediction_3)\n",
    "train_rmse_3 = np.sqrt(train_mse_3)\n",
    "r2_5 = r2_score(y_train_2, trainprediction_3)\n",
    "print(\"Train set performance of Model-c: \")\n",
    "print(\"MSE: \", train_mse_3)\n",
    "print(\"Root MSE: \", train_rmse_3)\n",
    "print(\"R-Squared: \", r2_5)\n",
    "\n",
    "testprediction_3 = reg3.predict(x_test_2)\n",
    "test_mse_3 = mean_squared_error(y_test_2, testprediction_3)\n",
    "test_rmse_3 = np.sqrt(test_mse_3)\n",
    "r2_6 = r2_score(y_test_2, testprediction_3)\n",
    "print(\"\\nTest set performance of Model-c: \")\n",
    "print(\"MSE: \", test_mse_3)\n",
    "print(\"Root MSE: \", test_rmse_3)\n",
    "print(\"R-Squared: \", r2_6)"
   ]
  },
  {
   "cell_type": "code",
   "execution_count": 20,
   "id": "27ddc262",
   "metadata": {},
   "outputs": [
    {
     "name": "stdout",
     "output_type": "stream",
     "text": [
      "Train set performance of Model-b: \n",
      "MSE:  1.2452011782233021\n",
      "Root MSE:  1.1158858266970246\n",
      "R-Squared:  0.0011565093479504185\n",
      "\n",
      "Test set performance of Model-d: \n",
      "MSE:  1.233611303958696\n",
      "Root MSE:  1.1106805589181328\n",
      "R-Squared:  0.0011036038087310907\n"
     ]
    }
   ],
   "source": [
    "# evaluation of Model-d\n",
    "trainprediction_4 = reg4.predict(X_train_2)\n",
    "train_mse_4 = mean_squared_error(Y_train_2, trainprediction_4)\n",
    "train_rmse_4 = np.sqrt(train_mse_4)\n",
    "r2_7 = r2_score(Y_train_2, trainprediction_4)\n",
    "print(\"Train set performance of Model-b: \")\n",
    "print(\"MSE: \", train_mse_4)\n",
    "print(\"Root MSE: \", train_rmse_4)\n",
    "print(\"R-Squared: \", r2_7)\n",
    "\n",
    "testprediction_4 = reg4.predict(X_test_2)\n",
    "test_mse_4 = mean_squared_error(Y_test_2, testprediction_4)\n",
    "test_rmse_4 = np.sqrt(test_mse_4)\n",
    "r2_8 = r2_score(Y_test_2, testprediction_4)\n",
    "print(\"\\nTest set performance of Model-d: \")\n",
    "print(\"MSE: \", test_mse_4)\n",
    "print(\"Root MSE: \", test_rmse_4)\n",
    "print(\"R-Squared: \", r2_8)"
   ]
  },
  {
   "cell_type": "markdown",
   "id": "963dd918",
   "metadata": {},
   "source": [
    " --------------------"
   ]
  },
  {
   "cell_type": "markdown",
   "id": "8c614fb5",
   "metadata": {},
   "source": [
    "### Visualising, Comparing and Analyzing the results"
   ]
  },
  {
   "cell_type": "markdown",
   "id": "1187d641",
   "metadata": {},
   "source": [
    "#### 1. Visualising the (mse and root mse) and Models(a & b) "
   ]
  },
  {
   "cell_type": "code",
   "execution_count": 21,
   "id": "4b144430",
   "metadata": {},
   "outputs": [
    {
     "data": {
      "image/png": "[encoded data removed]",
      "text/plain": [
       "<Figure size 864x432 with 1 Axes>"
      ]
     },
     "metadata": {
      "needs_background": "light"
     },
     "output_type": "display_data"
    }
   ],
   "source": [
    "model1_list = ['Model-a','Model-b']\n",
    "mse1_list = [test_mse_1, test_mse_2]\n",
    "rmse1_list = [test_rmse_1, test_rmse_2]\n",
    "xpos = np.arange(len(model1_list))\n",
    "plt.figure(figsize=(12,6))\n",
    "plt.bar(xpos, mse1_list, width=0.1, label=\"MSE\")\n",
    "plt.bar(xpos+0.1, rmse1_list, width=0.1, label=\"RMSE\")\n",
    "plt.title(\"Models(a & b) vs (MSE & RMSE)\", size=20)\n",
    "plt.xlabel('Models', size=12)\n",
    "plt.ylabel('MSE & RMSE', size=12)\n",
    "plt.grid(True)\n",
    "plt.ylim([1.05,1.26])\n",
    "plt.xticks(xpos+0.05, model1_list)\n",
    "plt.legend()\n",
    "plt.show()"
   ]
  },
  {
   "cell_type": "markdown",
   "id": "59711d19",
   "metadata": {},
   "source": [
    "#### We can see that both the mean squared error value(mse) and root mean squared error value(rmse) of model-b are slightly larger than those of model-a. This means that the model with least correlation features in respect to rating have larger mse and rmse values, hence, making model-b less suitable i.e. more the mse and rmse, more the chance of errors in the model.\n",
    "------"
   ]
  },
  {
   "cell_type": "markdown",
   "id": "553c6db7",
   "metadata": {},
   "source": [
    "#### 2. Visualising the (mse and root mse) and Models(c & d) "
   ]
  },
  {
   "cell_type": "code",
   "execution_count": 22,
   "id": "7d04a0ee",
   "metadata": {},
   "outputs": [
    {
     "data": {
      "image/png": "[encoded data removed]",
      "text/plain": [
       "<Figure size 864x432 with 1 Axes>"
      ]
     },
     "metadata": {
      "needs_background": "light"
     },
     "output_type": "display_data"
    }
   ],
   "source": [
    "model2_list = ['Model-c','Model-d']\n",
    "mse2_list = [test_mse_3, test_mse_4]\n",
    "rmse2_list = [test_rmse_3, test_rmse_4]\n",
    "xpos = np.arange(len(model2_list))\n",
    "plt.figure(figsize=(12,6))\n",
    "plt.grid(True)\n",
    "plt.bar(xpos, mse2_list, width=0.1, label=\"MSE\")\n",
    "plt.bar(xpos+0.1, rmse2_list, width=0.1, label=\"RMSE\")\n",
    "plt.xlabel('Models', size=12)\n",
    "plt.title(\"Models(c & d) vs (MSE & RMSE)\", size=20)\n",
    "plt.ylabel('MSE & RMSE', size=12)\n",
    "plt.ylim([1.065,1.265])\n",
    "plt.xticks(xpos+0.05, model2_list)\n",
    "plt.legend()\n",
    "plt.show()"
   ]
  },
  {
   "cell_type": "markdown",
   "id": "488f296a",
   "metadata": {},
   "source": [
    "#### We can see that both the mean squared error value(mse) and root mean squared error value(rmse) of model-d are slightly larger than those of model-c. This means that the model with least correlation features in respect to rating have larger mse and rmse values, hence, making model-d less suitable i.e. more the mse and rmse, more the chance of errors in the model.\n",
    "-----------------"
   ]
  },
  {
   "cell_type": "markdown",
   "id": "a3965f45",
   "metadata": {},
   "source": [
    "#### 3. Visualising the (mse and root mse) and Models(a & c) -- Strong Correlations"
   ]
  },
  {
   "cell_type": "code",
   "execution_count": 23,
   "id": "b0660161",
   "metadata": {},
   "outputs": [
    {
     "data": {
      "image/png": "[encoded data removed]",
      "text/plain": [
       "<Figure size 864x432 with 1 Axes>"
      ]
     },
     "metadata": {
      "needs_background": "light"
     },
     "output_type": "display_data"
    }
   ],
   "source": [
    "model3_list = ['Model-a','Model-c']\n",
    "mse3_list = [test_mse_1, test_mse_3]\n",
    "rmse3_list = [test_rmse_1, test_rmse_3]\n",
    "xpos = np.arange(len(model2_list))\n",
    "plt.figure(figsize=(12,6))\n",
    "plt.bar(xpos, mse3_list, width=0.1, label=\"MSE\")\n",
    "plt.bar(xpos+0.1, rmse3_list, width=0.1, label=\"RMSE\")\n",
    "plt.title(\"Strong Correlations(Model-a & Model-c) vs (MSE & RMSE)\", size=20)\n",
    "plt.xlabel('Models', size=12)\n",
    "plt.ylabel('MSE & RMSE', size=12)\n",
    "plt.grid(True)\n",
    "plt.ylim([1.065,1.265])\n",
    "plt.xticks(xpos+0.05, model3_list)\n",
    "plt.legend()\n",
    "plt.show()"
   ]
  },
  {
   "cell_type": "markdown",
   "id": "e13e7251",
   "metadata": {},
   "source": [
    "#### We can see that both the mean squared error value(mse) and root mean squared error value(rmse) of model-c are slightly larger than those of model-a. This means that the model with larger testing set will have larger mse and rmse values, hence, making model-c less suitable i.e. more the mse and rmse, more the chance of errors in the model.\n",
    "--------------"
   ]
  },
  {
   "cell_type": "markdown",
   "id": "abc998b5",
   "metadata": {},
   "source": [
    "#### 4. Visualising the (mse and root mse) and Models(b & d) -- Weak Correlations"
   ]
  },
  {
   "cell_type": "code",
   "execution_count": 24,
   "id": "d640da8c",
   "metadata": {},
   "outputs": [
    {
     "data": {
      "image/png": "[encoded data removed]",
      "text/plain": [
       "<Figure size 864x432 with 1 Axes>"
      ]
     },
     "metadata": {
      "needs_background": "light"
     },
     "output_type": "display_data"
    }
   ],
   "source": [
    "model4_list = ['Model-b','Model-d']\n",
    "mse4_list = [test_mse_2, test_mse_4]\n",
    "rmse4_list = [test_rmse_2, test_rmse_4]\n",
    "xpos = np.arange(len(model4_list))\n",
    "plt.figure(figsize=(12,6))\n",
    "plt.bar(xpos, mse4_list, width=0.1, label=\"MSE\")\n",
    "plt.bar(xpos+0.1, rmse4_list, width=0.1, label=\"RMSE\")\n",
    "plt.title(\"Weak Correlations(Model-b & Model-d) vs (MSE & RMSE)\", size=20)\n",
    "plt.xlabel('Models', size=12)\n",
    "plt.ylabel('MSE & RMSE', size=12)\n",
    "plt.grid(True)\n",
    "plt.ylim([1.065,1.265])\n",
    "plt.xticks(xpos+0.05, model4_list)\n",
    "plt.legend()\n",
    "plt.show()"
   ]
  },
  {
   "cell_type": "markdown",
   "id": "17fddf39",
   "metadata": {},
   "source": [
    "#### We can see that both the mean squared error value(mse) and root mean squared error value(rmse) of model-d are slightly larger than those of model-b. This means that the model with larger testing set will have larger mse and rmse values, hence, making model-d less suitable i.e. more the mse and rmse, more the chance of errors in the model.\n",
    "----------------"
   ]
  },
  {
   "cell_type": "markdown",
   "id": "2d344e0f",
   "metadata": {},
   "source": [
    "## *SUMMARY*"
   ]
  },
  {
   "cell_type": "code",
   "execution_count": 25,
   "id": "8b365dd2",
   "metadata": {},
   "outputs": [
    {
     "data": {
      "image/png": "[encoded data removed]",
      "text/plain": [
       "<Figure size 864x432 with 1 Axes>"
      ]
     },
     "metadata": {
      "needs_background": "light"
     },
     "output_type": "display_data"
    }
   ],
   "source": [
    "model5_list = ['Model-a','Model-b','Model-c','Model-d']\n",
    "mse5_list = [test_mse_1,test_mse_2,test_mse_3,test_mse_4]\n",
    "plt.figure(figsize=(12,6))\n",
    "sns.lineplot(x=model5_list, y=mse5_list)\n",
    "plt.title(\"MODELS vs MSE\", size=15)\n",
    "plt.xlabel('Models', size=12)\n",
    "plt.ylabel('MSE', size=12)\n",
    "plt.grid(True)\n",
    "plt.ylim([1.2,1.25])\n",
    "plt.show()"
   ]
  },
  {
   "cell_type": "markdown",
   "id": "40a28467",
   "metadata": {},
   "source": [
    "### Models vs RMSE graph will show same visual but with different values, since, $rmse = sqrt(mse)$, so we can summarise with this graph.\n",
    "### Evidence from the lineplot:\n",
    "    1) Model-a: lowest mse; therefore will have the lowest rmse; smallest training set\n",
    "    2) Model-b: low mse; therefore will have the low rmse; smallest training set\n",
    "    3) Model-c: high mse; therefore will have the high rmse; largest training set\n",
    "    4) Model-d: highest mse; therefore will have the highest rmse; largest training set\n",
    "\n",
    "### We can conclude that the model with the most training set and strong correlations has the best results i.e. lowest mse and rmse, therefore least chances of error --> most suitable.\n",
    "\n",
    "\n",
    "\n",
    "-------------------------------------------------"
   ]
  }
 ],
 "metadata": {
  "kernelspec": {
   "display_name": "Python 3 (ipykernel)",
   "language": "python",
   "name": "python3"
  },
  "language_info": {
   "codemirror_mode": {
    "name": "ipython",
    "version": 3
   },
   "file_extension": ".py",
   "mimetype": "text/x-python",
   "name": "python",
   "nbconvert_exporter": "python",
   "pygments_lexer": "ipython3",
   "version": "3.9.7"
  }
 },
 "nbformat": 4,
 "nbformat_minor": 5
}
